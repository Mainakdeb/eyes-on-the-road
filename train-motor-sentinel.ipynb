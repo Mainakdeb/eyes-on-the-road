{
  "nbformat": 4,
  "nbformat_minor": 0,
  "metadata": {
    "kernelspec": {
      "display_name": "Python 3",
      "language": "python",
      "name": "python3"
    },
    "language_info": {
      "codemirror_mode": {
        "name": "ipython",
        "version": 3
      },
      "file_extension": ".py",
      "mimetype": "text/x-python",
      "name": "python",
      "nbconvert_exporter": "python",
      "pygments_lexer": "ipython3",
      "version": "3.7.6"
    },
    "colab": {
      "name": "backup_good.ipynb",
      "provenance": [],
      "collapsed_sections": [],
      "include_colab_link": true
    },
    "accelerator": "GPU",
    "widgets": {
      "application/vnd.jupyter.widget-state+json": {
        "edef493ee0ea4b80a8c729c3cea33419": {
          "model_module": "@jupyter-widgets/controls",
          "model_name": "HBoxModel",
          "state": {
            "_view_name": "HBoxView",
            "_dom_classes": [],
            "_model_name": "HBoxModel",
            "_view_module": "@jupyter-widgets/controls",
            "_model_module_version": "1.5.0",
            "_view_count": null,
            "_view_module_version": "1.5.0",
            "box_style": "",
            "layout": "IPY_MODEL_17177e56634746e595cf655dc2fa01b7",
            "_model_module": "@jupyter-widgets/controls",
            "children": [
              "IPY_MODEL_12655d444a9b4cc3a41b4621735a0cf6",
              "IPY_MODEL_4bbda383308547fabd02d4a4a767eb38"
            ]
          }
        },
        "17177e56634746e595cf655dc2fa01b7": {
          "model_module": "@jupyter-widgets/base",
          "model_name": "LayoutModel",
          "state": {
            "_view_name": "LayoutView",
            "grid_template_rows": null,
            "right": null,
            "justify_content": null,
            "_view_module": "@jupyter-widgets/base",
            "overflow": null,
            "_model_module_version": "1.2.0",
            "_view_count": null,
            "flex_flow": null,
            "width": null,
            "min_width": null,
            "border": null,
            "align_items": null,
            "bottom": null,
            "_model_module": "@jupyter-widgets/base",
            "top": null,
            "grid_column": null,
            "overflow_y": null,
            "overflow_x": null,
            "grid_auto_flow": null,
            "grid_area": null,
            "grid_template_columns": null,
            "flex": null,
            "_model_name": "LayoutModel",
            "justify_items": null,
            "grid_row": null,
            "max_height": null,
            "align_content": null,
            "visibility": null,
            "align_self": null,
            "height": null,
            "min_height": null,
            "padding": null,
            "grid_auto_rows": null,
            "grid_gap": null,
            "max_width": null,
            "order": null,
            "_view_module_version": "1.2.0",
            "grid_template_areas": null,
            "object_position": null,
            "object_fit": null,
            "grid_auto_columns": null,
            "margin": null,
            "display": null,
            "left": null
          }
        },
        "12655d444a9b4cc3a41b4621735a0cf6": {
          "model_module": "@jupyter-widgets/controls",
          "model_name": "FloatProgressModel",
          "state": {
            "_view_name": "ProgressView",
            "style": "IPY_MODEL_297340d8a19a443eac8c89ad4d3593f4",
            "_dom_classes": [],
            "description": "100%",
            "_model_name": "FloatProgressModel",
            "bar_style": "success",
            "max": 1,
            "_view_module": "@jupyter-widgets/controls",
            "_model_module_version": "1.5.0",
            "value": 1,
            "_view_count": null,
            "_view_module_version": "1.5.0",
            "orientation": "horizontal",
            "min": 0,
            "description_tooltip": null,
            "_model_module": "@jupyter-widgets/controls",
            "layout": "IPY_MODEL_1b29176b93f84395ad6b386037e7fd11"
          }
        },
        "4bbda383308547fabd02d4a4a767eb38": {
          "model_module": "@jupyter-widgets/controls",
          "model_name": "HTMLModel",
          "state": {
            "_view_name": "HTMLView",
            "style": "IPY_MODEL_d616bfe4a4794e468df9fd369ba57b4f",
            "_dom_classes": [],
            "description": "",
            "_model_name": "HTMLModel",
            "placeholder": "​",
            "_view_module": "@jupyter-widgets/controls",
            "_model_module_version": "1.5.0",
            "value": " 1/1 [15:43&lt;00:00, 943.99s/it]",
            "_view_count": null,
            "_view_module_version": "1.5.0",
            "description_tooltip": null,
            "_model_module": "@jupyter-widgets/controls",
            "layout": "IPY_MODEL_cc47c72ca3634e9abda3f0695c6f877b"
          }
        },
        "297340d8a19a443eac8c89ad4d3593f4": {
          "model_module": "@jupyter-widgets/controls",
          "model_name": "ProgressStyleModel",
          "state": {
            "_view_name": "StyleView",
            "_model_name": "ProgressStyleModel",
            "description_width": "initial",
            "_view_module": "@jupyter-widgets/base",
            "_model_module_version": "1.5.0",
            "_view_count": null,
            "_view_module_version": "1.2.0",
            "bar_color": null,
            "_model_module": "@jupyter-widgets/controls"
          }
        },
        "1b29176b93f84395ad6b386037e7fd11": {
          "model_module": "@jupyter-widgets/base",
          "model_name": "LayoutModel",
          "state": {
            "_view_name": "LayoutView",
            "grid_template_rows": null,
            "right": null,
            "justify_content": null,
            "_view_module": "@jupyter-widgets/base",
            "overflow": null,
            "_model_module_version": "1.2.0",
            "_view_count": null,
            "flex_flow": null,
            "width": null,
            "min_width": null,
            "border": null,
            "align_items": null,
            "bottom": null,
            "_model_module": "@jupyter-widgets/base",
            "top": null,
            "grid_column": null,
            "overflow_y": null,
            "overflow_x": null,
            "grid_auto_flow": null,
            "grid_area": null,
            "grid_template_columns": null,
            "flex": null,
            "_model_name": "LayoutModel",
            "justify_items": null,
            "grid_row": null,
            "max_height": null,
            "align_content": null,
            "visibility": null,
            "align_self": null,
            "height": null,
            "min_height": null,
            "padding": null,
            "grid_auto_rows": null,
            "grid_gap": null,
            "max_width": null,
            "order": null,
            "_view_module_version": "1.2.0",
            "grid_template_areas": null,
            "object_position": null,
            "object_fit": null,
            "grid_auto_columns": null,
            "margin": null,
            "display": null,
            "left": null
          }
        },
        "d616bfe4a4794e468df9fd369ba57b4f": {
          "model_module": "@jupyter-widgets/controls",
          "model_name": "DescriptionStyleModel",
          "state": {
            "_view_name": "StyleView",
            "_model_name": "DescriptionStyleModel",
            "description_width": "",
            "_view_module": "@jupyter-widgets/base",
            "_model_module_version": "1.5.0",
            "_view_count": null,
            "_view_module_version": "1.2.0",
            "_model_module": "@jupyter-widgets/controls"
          }
        },
        "cc47c72ca3634e9abda3f0695c6f877b": {
          "model_module": "@jupyter-widgets/base",
          "model_name": "LayoutModel",
          "state": {
            "_view_name": "LayoutView",
            "grid_template_rows": null,
            "right": null,
            "justify_content": null,
            "_view_module": "@jupyter-widgets/base",
            "overflow": null,
            "_model_module_version": "1.2.0",
            "_view_count": null,
            "flex_flow": null,
            "width": null,
            "min_width": null,
            "border": null,
            "align_items": null,
            "bottom": null,
            "_model_module": "@jupyter-widgets/base",
            "top": null,
            "grid_column": null,
            "overflow_y": null,
            "overflow_x": null,
            "grid_auto_flow": null,
            "grid_area": null,
            "grid_template_columns": null,
            "flex": null,
            "_model_name": "LayoutModel",
            "justify_items": null,
            "grid_row": null,
            "max_height": null,
            "align_content": null,
            "visibility": null,
            "align_self": null,
            "height": null,
            "min_height": null,
            "padding": null,
            "grid_auto_rows": null,
            "grid_gap": null,
            "max_width": null,
            "order": null,
            "_view_module_version": "1.2.0",
            "grid_template_areas": null,
            "object_position": null,
            "object_fit": null,
            "grid_auto_columns": null,
            "margin": null,
            "display": null,
            "left": null
          }
        },
        "0badd4b7904a45c1b8e380084e7c41d9": {
          "model_module": "@jupyter-widgets/controls",
          "model_name": "HBoxModel",
          "state": {
            "_view_name": "HBoxView",
            "_dom_classes": [],
            "_model_name": "HBoxModel",
            "_view_module": "@jupyter-widgets/controls",
            "_model_module_version": "1.5.0",
            "_view_count": null,
            "_view_module_version": "1.5.0",
            "box_style": "",
            "layout": "IPY_MODEL_07843d5f5dce4e7e8c7cb6f361188267",
            "_model_module": "@jupyter-widgets/controls",
            "children": [
              "IPY_MODEL_64497f2c755843348a5b7292b800c7b6",
              "IPY_MODEL_4b86d282383b41718890d1c6eba2e557"
            ]
          }
        },
        "07843d5f5dce4e7e8c7cb6f361188267": {
          "model_module": "@jupyter-widgets/base",
          "model_name": "LayoutModel",
          "state": {
            "_view_name": "LayoutView",
            "grid_template_rows": null,
            "right": null,
            "justify_content": null,
            "_view_module": "@jupyter-widgets/base",
            "overflow": null,
            "_model_module_version": "1.2.0",
            "_view_count": null,
            "flex_flow": null,
            "width": null,
            "min_width": null,
            "border": null,
            "align_items": null,
            "bottom": null,
            "_model_module": "@jupyter-widgets/base",
            "top": null,
            "grid_column": null,
            "overflow_y": null,
            "overflow_x": null,
            "grid_auto_flow": null,
            "grid_area": null,
            "grid_template_columns": null,
            "flex": null,
            "_model_name": "LayoutModel",
            "justify_items": null,
            "grid_row": null,
            "max_height": null,
            "align_content": null,
            "visibility": null,
            "align_self": null,
            "height": null,
            "min_height": null,
            "padding": null,
            "grid_auto_rows": null,
            "grid_gap": null,
            "max_width": null,
            "order": null,
            "_view_module_version": "1.2.0",
            "grid_template_areas": null,
            "object_position": null,
            "object_fit": null,
            "grid_auto_columns": null,
            "margin": null,
            "display": null,
            "left": null
          }
        },
        "64497f2c755843348a5b7292b800c7b6": {
          "model_module": "@jupyter-widgets/controls",
          "model_name": "FloatProgressModel",
          "state": {
            "_view_name": "ProgressView",
            "style": "IPY_MODEL_c0dcd182ccea46ca90785bfd56f204bc",
            "_dom_classes": [],
            "description": "100%",
            "_model_name": "FloatProgressModel",
            "bar_style": "success",
            "max": 747,
            "_view_module": "@jupyter-widgets/controls",
            "_model_module_version": "1.5.0",
            "value": 747,
            "_view_count": null,
            "_view_module_version": "1.5.0",
            "orientation": "horizontal",
            "min": 0,
            "description_tooltip": null,
            "_model_module": "@jupyter-widgets/controls",
            "layout": "IPY_MODEL_b72183dc641843e38810f7287c71bc9b"
          }
        },
        "4b86d282383b41718890d1c6eba2e557": {
          "model_module": "@jupyter-widgets/controls",
          "model_name": "HTMLModel",
          "state": {
            "_view_name": "HTMLView",
            "style": "IPY_MODEL_264882b62d654c8f895c07c65bf843e8",
            "_dom_classes": [],
            "description": "",
            "_model_name": "HTMLModel",
            "placeholder": "​",
            "_view_module": "@jupyter-widgets/controls",
            "_model_module_version": "1.5.0",
            "value": " 747/747 [15:33&lt;00:00,  1.25s/it]",
            "_view_count": null,
            "_view_module_version": "1.5.0",
            "description_tooltip": null,
            "_model_module": "@jupyter-widgets/controls",
            "layout": "IPY_MODEL_43acd0102e3d43c4960a8852a38eee67"
          }
        },
        "c0dcd182ccea46ca90785bfd56f204bc": {
          "model_module": "@jupyter-widgets/controls",
          "model_name": "ProgressStyleModel",
          "state": {
            "_view_name": "StyleView",
            "_model_name": "ProgressStyleModel",
            "description_width": "initial",
            "_view_module": "@jupyter-widgets/base",
            "_model_module_version": "1.5.0",
            "_view_count": null,
            "_view_module_version": "1.2.0",
            "bar_color": null,
            "_model_module": "@jupyter-widgets/controls"
          }
        },
        "b72183dc641843e38810f7287c71bc9b": {
          "model_module": "@jupyter-widgets/base",
          "model_name": "LayoutModel",
          "state": {
            "_view_name": "LayoutView",
            "grid_template_rows": null,
            "right": null,
            "justify_content": null,
            "_view_module": "@jupyter-widgets/base",
            "overflow": null,
            "_model_module_version": "1.2.0",
            "_view_count": null,
            "flex_flow": null,
            "width": null,
            "min_width": null,
            "border": null,
            "align_items": null,
            "bottom": null,
            "_model_module": "@jupyter-widgets/base",
            "top": null,
            "grid_column": null,
            "overflow_y": null,
            "overflow_x": null,
            "grid_auto_flow": null,
            "grid_area": null,
            "grid_template_columns": null,
            "flex": null,
            "_model_name": "LayoutModel",
            "justify_items": null,
            "grid_row": null,
            "max_height": null,
            "align_content": null,
            "visibility": null,
            "align_self": null,
            "height": null,
            "min_height": null,
            "padding": null,
            "grid_auto_rows": null,
            "grid_gap": null,
            "max_width": null,
            "order": null,
            "_view_module_version": "1.2.0",
            "grid_template_areas": null,
            "object_position": null,
            "object_fit": null,
            "grid_auto_columns": null,
            "margin": null,
            "display": null,
            "left": null
          }
        },
        "264882b62d654c8f895c07c65bf843e8": {
          "model_module": "@jupyter-widgets/controls",
          "model_name": "DescriptionStyleModel",
          "state": {
            "_view_name": "StyleView",
            "_model_name": "DescriptionStyleModel",
            "description_width": "",
            "_view_module": "@jupyter-widgets/base",
            "_model_module_version": "1.5.0",
            "_view_count": null,
            "_view_module_version": "1.2.0",
            "_model_module": "@jupyter-widgets/controls"
          }
        },
        "43acd0102e3d43c4960a8852a38eee67": {
          "model_module": "@jupyter-widgets/base",
          "model_name": "LayoutModel",
          "state": {
            "_view_name": "LayoutView",
            "grid_template_rows": null,
            "right": null,
            "justify_content": null,
            "_view_module": "@jupyter-widgets/base",
            "overflow": null,
            "_model_module_version": "1.2.0",
            "_view_count": null,
            "flex_flow": null,
            "width": null,
            "min_width": null,
            "border": null,
            "align_items": null,
            "bottom": null,
            "_model_module": "@jupyter-widgets/base",
            "top": null,
            "grid_column": null,
            "overflow_y": null,
            "overflow_x": null,
            "grid_auto_flow": null,
            "grid_area": null,
            "grid_template_columns": null,
            "flex": null,
            "_model_name": "LayoutModel",
            "justify_items": null,
            "grid_row": null,
            "max_height": null,
            "align_content": null,
            "visibility": null,
            "align_self": null,
            "height": null,
            "min_height": null,
            "padding": null,
            "grid_auto_rows": null,
            "grid_gap": null,
            "max_width": null,
            "order": null,
            "_view_module_version": "1.2.0",
            "grid_template_areas": null,
            "object_position": null,
            "object_fit": null,
            "grid_auto_columns": null,
            "margin": null,
            "display": null,
            "left": null
          }
        }
      }
    }
  },
  "cells": [
    {
      "cell_type": "markdown",
      "metadata": {
        "id": "view-in-github",
        "colab_type": "text"
      },
      "source": [
        "<a href=\"https://colab.research.google.com/github/Mainakdeb/eyes-on-the-road/blob/master/train-motor-sentinel.ipynb\" target=\"_parent\"><img src=\"https://colab.research.google.com/assets/colab-badge.svg\" alt=\"Open In Colab\"/></a>"
      ]
    },
    {
      "cell_type": "code",
      "metadata": {
        "id": "vPM3JELLfNyq",
        "colab_type": "code",
        "colab": {}
      },
      "source": [
        "from google.colab import drive\n",
        "drive.mount('/content/drive')"
      ],
      "execution_count": 0,
      "outputs": []
    },
    {
      "cell_type": "code",
      "metadata": {
        "id": "AsHaumoKmi30",
        "colab_type": "code",
        "colab": {}
      },
      "source": [
        "import pandas as pd\n",
        "from tqdm.notebook import tnrange, tqdm\n",
        "import torch\n",
        "import torchvision\n",
        "from torch.utils.data import Dataset, TensorDataset\n",
        "from torchvision.transforms import ToTensor\n",
        "import torchvision.transforms as transforms\n",
        "from torch.utils.data import DataLoader\n",
        "import matplotlib.pyplot as plt\n",
        "import numpy as np\n",
        "import torch.nn as nn\n",
        "import torch.optim as optim\n",
        "import torch.nn.functional as F\n",
        "from torchvision import models\n",
        "from PIL import Image"
      ],
      "execution_count": 0,
      "outputs": []
    },
    {
      "cell_type": "code",
      "metadata": {
        "id": "b-qZV8xae9dv",
        "colab_type": "code",
        "outputId": "1d69d20c-bc53-488a-df3a-c5a68ae81e47",
        "colab": {
          "base_uri": "https://localhost:8080/",
          "height": 34
        }
      },
      "source": [
        "torch.cuda.is_available()"
      ],
      "execution_count": 5,
      "outputs": [
        {
          "output_type": "execute_result",
          "data": {
            "text/plain": [
              "True"
            ]
          },
          "metadata": {
            "tags": []
          },
          "execution_count": 5
        }
      ]
    },
    {
      "cell_type": "code",
      "metadata": {
        "id": "XjqfO6ytmpMJ",
        "colab_type": "code",
        "outputId": "13fd8194-1011-45dd-db7b-f5f7cfa3ca60",
        "colab": {
          "base_uri": "https://localhost:8080/",
          "height": 34
        }
      },
      "source": [
        "device = torch.device(\"cuda:0\" if torch.cuda.is_available() else \"cpu\")\n",
        "device"
      ],
      "execution_count": 6,
      "outputs": [
        {
          "output_type": "execute_result",
          "data": {
            "text/plain": [
              "device(type='cuda', index=0)"
            ]
          },
          "metadata": {
            "tags": []
          },
          "execution_count": 6
        }
      ]
    },
    {
      "cell_type": "markdown",
      "metadata": {
        "id": "2kaaErrkffQj",
        "colab_type": "text"
      },
      "source": [
        "## Unzip the training data into runtime storage from Google Drive :"
      ]
    },
    {
      "cell_type": "code",
      "metadata": {
        "id": "UuV164LlxxPD",
        "colab_type": "code",
        "colab": {}
      },
      "source": [
        "%%bash \n",
        "mkdir foldername\n",
        "tar -xvf '/content/drive/My Drive/train.tar.xz' -C '/content/'"
      ],
      "execution_count": 0,
      "outputs": []
    },
    {
      "cell_type": "code",
      "metadata": {
        "id": "njL0NArMx7BB",
        "colab_type": "code",
        "colab": {}
      },
      "source": [
        "def image_to_nparray(path):\n",
        "    i = plt.imread(path)    \n",
        "    return(np.array(i))"
      ],
      "execution_count": 0,
      "outputs": []
    },
    {
      "cell_type": "markdown",
      "metadata": {
        "id": "IJMRoDfnZmkV",
        "colab_type": "text"
      },
      "source": [
        "\n",
        "## A Custom class for this dataset:\n",
        "\n",
        "\n"
      ]
    },
    {
      "cell_type": "code",
      "metadata": {
        "id": "LOuAhn1ie9fg",
        "colab_type": "code",
        "colab": {}
      },
      "source": [
        "class C_Dataset(Dataset):\n",
        "    \"\"\"custom\"\"\"\n",
        "\n",
        "    def __init__(self, csv_file_path, root_dir, transform=None):\n",
        "        \n",
        "        \"\"\"\n",
        "        Args:\n",
        "            csv_file (string): Path to the csv file with annotations.\n",
        "            root_dir (string): Directory with all the images.\n",
        "            transform (callable, optional): Optional transform to be applied\n",
        "                on a sample.\n",
        "        \"\"\"\n",
        "        \n",
        "        self.transform = transform\n",
        "        self.root_dir = root_dir\n",
        "        self.d = pd.read_csv(csv_file_path, header= None)[1:]\n",
        "    \n",
        "\n",
        "        \n",
        "    def __getitem__(self, idx): \n",
        "\n",
        "        smol_img_path = str(self.d.iloc[idx][3])\n",
        "        class_name = str(self.d.iloc[idx][2])[-1] \n",
        "        full_img_path = self.root_dir + '/' + 'c'+ class_name + '/' + smol_img_path\n",
        "        img_arr = image_to_nparray(full_img_path)\n",
        "\n",
        "        if self.transform is not None:\n",
        "            img_arr = self.transform(img_arr)\n",
        "        \n",
        "        return  img_arr, torch.tensor(int(class_name))\n",
        "        \n",
        "        \n",
        "\n",
        "    def __len__(self):\n",
        "      \n",
        "        return (len(self.d))"
      ],
      "execution_count": 0,
      "outputs": []
    },
    {
      "cell_type": "markdown",
      "metadata": {
        "id": "fezgstzxZuEs",
        "colab_type": "text"
      },
      "source": [
        "## Custom class for adding Gausian noise :\n"
      ]
    },
    {
      "cell_type": "code",
      "metadata": {
        "scrolled": true,
        "id": "RdJujVMTe9fp",
        "colab_type": "code",
        "colab": {}
      },
      "source": [
        "class AddGaussianNoise(object):\n",
        "    def __init__(self, mean=0., std=1.):\n",
        "        self.std = std\n",
        "        self.mean = mean\n",
        "        \n",
        "    def __call__(self, tensor):\n",
        "        return tensor + torch.randn(tensor.size()) * self.std + self.mean\n",
        "    \n",
        "    def __repr__(self):\n",
        "        return self.__class__.__name__ + '(mean={0}, std={1})'.format(self.mean, self.std)"
      ],
      "execution_count": 0,
      "outputs": []
    },
    {
      "cell_type": "code",
      "metadata": {
        "id": "VPqlkYtBe9f0",
        "colab_type": "code",
        "colab": {}
      },
      "source": [
        "data = C_Dataset('/content/drive/My Drive/balanced.csv', \n",
        "               '/content/train/',\n",
        "                transform = transforms.Compose([\n",
        "                                                transforms.ToPILImage(),\n",
        "                                                transforms.Resize((224,224), interpolation=2),\n",
        "                                                transforms.RandomRotation(20),\n",
        "                                                transforms.RandomPerspective(distortion_scale=0.1, p=0.5, interpolation=3, fill=0),\n",
        "                                                transforms.ToTensor(),\n",
        "                                                #AddGaussianNoise(0., 0.05)\n",
        "                                                ])\n",
        "                )\n",
        "\n",
        "\n",
        "val_data = C_Dataset('/content/drive/My Drive/val.csv', \n",
        "               '/content/train/',\n",
        "                transform = transforms.Compose([\n",
        "                                                transforms.ToPILImage(),\n",
        "                                                transforms.Resize((224,224), interpolation=2),\n",
        "                                                #transforms.RandomRotation(10),\n",
        "                                                transforms.ToTensor(),\n",
        "                                                #AddGaussianNoise(0., 0.5)\n",
        "                                                ])\n",
        "                )\n",
        "\n",
        "train_set, val_set = data, val_data\n",
        "\n",
        "print(len(train_set), len(val_set))"
      ],
      "execution_count": 0,
      "outputs": []
    },
    {
      "cell_type": "markdown",
      "metadata": {
        "id": "rdM_P6K0Z8xP",
        "colab_type": "text"
      },
      "source": [
        "## Plot Augmented Samples from the Train-Loader :\n"
      ]
    },
    {
      "cell_type": "code",
      "metadata": {
        "id": "h21Iw8d5e9f-",
        "colab_type": "code",
        "colab": {}
      },
      "source": [
        "train_loader_1 = torch.utils.data.DataLoader(\n",
        "    train_set\n",
        "    ,batch_size=10\n",
        "    ,shuffle=True\n",
        ")\n",
        "\n",
        "class_list = ['safe', 'text-R', 'talk on phone-R', 'text-L', 'talk on phone-L', 'radio', 'drink'\n",
        ", 'reach behind', 'hair/make-up', 'talk to passenger']\n",
        "fig, axs = plt.subplots(5, 5, figsize=(17,17))\n",
        "fig = plt.figure(figsize=(10,3))\n",
        "trans = transforms.ToPILImage()\n",
        "plt.figure(figsize=(50,50))\n",
        "\n",
        "for i in range(5):\n",
        "    for j in range(5):\n",
        "        for images, labels in (train_loader_1):\n",
        "            \n",
        "            x=np.transpose(images[0], (1, 2, 0))  \n",
        "            class_number = labels[0].item()\n",
        "            im_label=class_list[class_number]\n",
        "            axs[j,i].imshow(x, interpolation='none')\n",
        "            axs[j,i].title.set_text(im_label)\n",
        "            break\n",
        "plt.show()"
      ],
      "execution_count": 0,
      "outputs": []
    },
    {
      "cell_type": "markdown",
      "metadata": {
        "id": "5gcwpkUuaRuO",
        "colab_type": "text"
      },
      "source": [
        "## A function to compute the number of correct predictions :\n"
      ]
    },
    {
      "cell_type": "code",
      "metadata": {
        "id": "etfLGxlAaOPG",
        "colab_type": "code",
        "colab": {}
      },
      "source": [
        "def get_num_correct(preds, labels):\n",
        "    return preds.argmax(dim=1).eq(labels).sum().item()"
      ],
      "execution_count": 0,
      "outputs": []
    },
    {
      "cell_type": "markdown",
      "metadata": {
        "id": "X1Lk_1ukbm08",
        "colab_type": "text"
      },
      "source": [
        "## A function to plot the training metrics :"
      ]
    },
    {
      "cell_type": "code",
      "metadata": {
        "id": "ceIo-TinblsI",
        "colab_type": "code",
        "colab": {}
      },
      "source": [
        "def plot_metric(arg, frm):\n",
        "    \n",
        "    if (arg)=='loss':\n",
        "        a,b = loss_list, val_loss_list\n",
        "    elif (arg)=='accuracy':\n",
        "        a,b=acc_list, val_acc_list\n",
        "            \n",
        "    width_height = (11,3)\n",
        "    plt.figure(figsize=width_height)\n",
        "\n",
        "    #plt.axvspan(11,13, color='red', alpha=0.2)\n",
        "    \n",
        "    plt.plot(a[frm:], label='Training ' + str(arg))\n",
        "    plt.plot(b[frm:], label='Validation ' + str(arg))\n",
        "    plt.xlabel(str(arg))\n",
        "    plt.ylabel(\"Epochs\")\n",
        "    plt.grid()\n",
        "    plt.legend()\n",
        "    plt.show()"
      ],
      "execution_count": 0,
      "outputs": []
    },
    {
      "cell_type": "markdown",
      "metadata": {
        "id": "2KydeRraaj2Z",
        "colab_type": "text"
      },
      "source": [
        "## The Model :"
      ]
    },
    {
      "cell_type": "code",
      "metadata": {
        "id": "OETqXh4EwYK9",
        "colab_type": "code",
        "outputId": "2a504fe6-4717-4110-bd02-f2385a20d6ee",
        "colab": {
          "base_uri": "https://localhost:8080/",
          "height": 1000
        }
      },
      "source": [
        "def get_num_correct(preds, labels):\n",
        "    return preds.argmax(dim=1).eq(labels).sum().item()\n",
        "\n",
        "class Net(nn.Module):\n",
        "    \n",
        "    def __init__(self):\n",
        "        super(Net, self).__init__()\n",
        "        self.conv1 = nn.Conv2d(3, 6, 7)\n",
        "        self.pool = nn.MaxPool2d(2, 2)\n",
        "        self.conv2 = nn.Conv2d(6, 16, 5)\n",
        "        self.fc1 = nn.Linear(16*34*34, 500)\n",
        "        self.fc2 = nn.Linear(500, 50)\n",
        "        self.fc3 = nn.Linear(50, 2)\n",
        "\n",
        "        \n",
        "    def forward(self, x):\n",
        "        x = self.pool(F.relu(self.conv1(x)))\n",
        "        x = self.pool(F.relu(self.conv2(x)))\n",
        "        \n",
        "        print(x.shape)\n",
        "        x = x.view(-1, 16*34*34)\n",
        "        x = F.relu(self.fc1(x))\n",
        "        x = F.relu(self.fc2(x))\n",
        "        x = self.fc3(x)\n",
        "        return x\n",
        "\n",
        "        \n",
        "\n",
        "network = model_ft.to(device)\n",
        "print(network)\n"
      ],
      "execution_count": 120,
      "outputs": [
        {
          "output_type": "stream",
          "text": [
            "ResNet(\n",
            "  (conv1): Conv2d(3, 64, kernel_size=(7, 7), stride=(2, 2), padding=(3, 3), bias=False)\n",
            "  (bn1): BatchNorm2d(64, eps=1e-05, momentum=0.1, affine=True, track_running_stats=True)\n",
            "  (relu): ReLU(inplace=True)\n",
            "  (maxpool): MaxPool2d(kernel_size=3, stride=2, padding=1, dilation=1, ceil_mode=False)\n",
            "  (layer1): Sequential(\n",
            "    (0): BasicBlock(\n",
            "      (conv1): Conv2d(64, 64, kernel_size=(3, 3), stride=(1, 1), padding=(1, 1), bias=False)\n",
            "      (bn1): BatchNorm2d(64, eps=1e-05, momentum=0.1, affine=True, track_running_stats=True)\n",
            "      (relu): ReLU(inplace=True)\n",
            "      (conv2): Conv2d(64, 64, kernel_size=(3, 3), stride=(1, 1), padding=(1, 1), bias=False)\n",
            "      (bn2): BatchNorm2d(64, eps=1e-05, momentum=0.1, affine=True, track_running_stats=True)\n",
            "    )\n",
            "    (1): BasicBlock(\n",
            "      (conv1): Conv2d(64, 64, kernel_size=(3, 3), stride=(1, 1), padding=(1, 1), bias=False)\n",
            "      (bn1): BatchNorm2d(64, eps=1e-05, momentum=0.1, affine=True, track_running_stats=True)\n",
            "      (relu): ReLU(inplace=True)\n",
            "      (conv2): Conv2d(64, 64, kernel_size=(3, 3), stride=(1, 1), padding=(1, 1), bias=False)\n",
            "      (bn2): BatchNorm2d(64, eps=1e-05, momentum=0.1, affine=True, track_running_stats=True)\n",
            "    )\n",
            "  )\n",
            "  (layer2): Sequential(\n",
            "    (0): BasicBlock(\n",
            "      (conv1): Conv2d(64, 128, kernel_size=(3, 3), stride=(2, 2), padding=(1, 1), bias=False)\n",
            "      (bn1): BatchNorm2d(128, eps=1e-05, momentum=0.1, affine=True, track_running_stats=True)\n",
            "      (relu): ReLU(inplace=True)\n",
            "      (conv2): Conv2d(128, 128, kernel_size=(3, 3), stride=(1, 1), padding=(1, 1), bias=False)\n",
            "      (bn2): BatchNorm2d(128, eps=1e-05, momentum=0.1, affine=True, track_running_stats=True)\n",
            "      (downsample): Sequential(\n",
            "        (0): Conv2d(64, 128, kernel_size=(1, 1), stride=(2, 2), bias=False)\n",
            "        (1): BatchNorm2d(128, eps=1e-05, momentum=0.1, affine=True, track_running_stats=True)\n",
            "      )\n",
            "    )\n",
            "    (1): BasicBlock(\n",
            "      (conv1): Conv2d(128, 128, kernel_size=(3, 3), stride=(1, 1), padding=(1, 1), bias=False)\n",
            "      (bn1): BatchNorm2d(128, eps=1e-05, momentum=0.1, affine=True, track_running_stats=True)\n",
            "      (relu): ReLU(inplace=True)\n",
            "      (conv2): Conv2d(128, 128, kernel_size=(3, 3), stride=(1, 1), padding=(1, 1), bias=False)\n",
            "      (bn2): BatchNorm2d(128, eps=1e-05, momentum=0.1, affine=True, track_running_stats=True)\n",
            "    )\n",
            "  )\n",
            "  (layer3): Sequential(\n",
            "    (0): BasicBlock(\n",
            "      (conv1): Conv2d(128, 256, kernel_size=(3, 3), stride=(2, 2), padding=(1, 1), bias=False)\n",
            "      (bn1): BatchNorm2d(256, eps=1e-05, momentum=0.1, affine=True, track_running_stats=True)\n",
            "      (relu): ReLU(inplace=True)\n",
            "      (conv2): Conv2d(256, 256, kernel_size=(3, 3), stride=(1, 1), padding=(1, 1), bias=False)\n",
            "      (bn2): BatchNorm2d(256, eps=1e-05, momentum=0.1, affine=True, track_running_stats=True)\n",
            "      (downsample): Sequential(\n",
            "        (0): Conv2d(128, 256, kernel_size=(1, 1), stride=(2, 2), bias=False)\n",
            "        (1): BatchNorm2d(256, eps=1e-05, momentum=0.1, affine=True, track_running_stats=True)\n",
            "      )\n",
            "    )\n",
            "    (1): BasicBlock(\n",
            "      (conv1): Conv2d(256, 256, kernel_size=(3, 3), stride=(1, 1), padding=(1, 1), bias=False)\n",
            "      (bn1): BatchNorm2d(256, eps=1e-05, momentum=0.1, affine=True, track_running_stats=True)\n",
            "      (relu): ReLU(inplace=True)\n",
            "      (conv2): Conv2d(256, 256, kernel_size=(3, 3), stride=(1, 1), padding=(1, 1), bias=False)\n",
            "      (bn2): BatchNorm2d(256, eps=1e-05, momentum=0.1, affine=True, track_running_stats=True)\n",
            "    )\n",
            "  )\n",
            "  (layer4): Sequential(\n",
            "    (0): BasicBlock(\n",
            "      (conv1): Conv2d(256, 512, kernel_size=(3, 3), stride=(2, 2), padding=(1, 1), bias=False)\n",
            "      (bn1): BatchNorm2d(512, eps=1e-05, momentum=0.1, affine=True, track_running_stats=True)\n",
            "      (relu): ReLU(inplace=True)\n",
            "      (conv2): Conv2d(512, 512, kernel_size=(3, 3), stride=(1, 1), padding=(1, 1), bias=False)\n",
            "      (bn2): BatchNorm2d(512, eps=1e-05, momentum=0.1, affine=True, track_running_stats=True)\n",
            "      (downsample): Sequential(\n",
            "        (0): Conv2d(256, 512, kernel_size=(1, 1), stride=(2, 2), bias=False)\n",
            "        (1): BatchNorm2d(512, eps=1e-05, momentum=0.1, affine=True, track_running_stats=True)\n",
            "      )\n",
            "    )\n",
            "    (1): BasicBlock(\n",
            "      (conv1): Conv2d(512, 512, kernel_size=(3, 3), stride=(1, 1), padding=(1, 1), bias=False)\n",
            "      (bn1): BatchNorm2d(512, eps=1e-05, momentum=0.1, affine=True, track_running_stats=True)\n",
            "      (relu): ReLU(inplace=True)\n",
            "      (conv2): Conv2d(512, 512, kernel_size=(3, 3), stride=(1, 1), padding=(1, 1), bias=False)\n",
            "      (bn2): BatchNorm2d(512, eps=1e-05, momentum=0.1, affine=True, track_running_stats=True)\n",
            "    )\n",
            "  )\n",
            "  (avgpool): AdaptiveAvgPool2d(output_size=(1, 1))\n",
            "  (fc): Linear(in_features=512, out_features=10, bias=True)\n",
            ")\n"
          ],
          "name": "stdout"
        }
      ]
    },
    {
      "cell_type": "code",
      "metadata": {
        "id": "qeTbOEtUyzsM",
        "colab_type": "code",
        "colab": {}
      },
      "source": [
        "batch_size=32\n",
        "learning_rate = 0.0002\n",
        "\n",
        "\n",
        "train_loader_2 = torch.utils.data.DataLoader(\n",
        "    train_set\n",
        "    ,batch_size=batch_size\n",
        "    ,shuffle=True\n",
        "\n",
        ")\n",
        "\n",
        "val_loader = torch.utils.data.DataLoader(\n",
        "    val_set, \n",
        "    batch_size=batch_size, \n",
        "    shuffle=True,\n",
        ")\n",
        "\n",
        "loss_list=[]\n",
        "acc_list=[]\n",
        "val_loss_list=[]\n",
        "val_acc_list=[]\n",
        "\n",
        "\n",
        "criterion = nn.CrossEntropyLoss()\n",
        "optimizer = optim.Adam(network.parameters(), lr=learning_rate) #lr=0.00003)\n",
        "scheduler = torch.optim.lr_scheduler.ReduceLROnPlateau(optimizer, 'min', factor=0.1, patience=4)"
      ],
      "execution_count": 0,
      "outputs": []
    },
    {
      "cell_type": "markdown",
      "metadata": {
        "id": "Xc8-NmAHbTFS",
        "colab_type": "text"
      },
      "source": [
        "## Training Loop :"
      ]
    },
    {
      "cell_type": "code",
      "metadata": {
        "id": "bAAig7HxyzkW",
        "colab_type": "code",
        "outputId": "598c82f3-d064-402d-87a5-8884f9694d29",
        "colab": {
          "base_uri": "https://localhost:8080/",
          "height": 116,
          "referenced_widgets": [
            "edef493ee0ea4b80a8c729c3cea33419",
            "17177e56634746e595cf655dc2fa01b7",
            "12655d444a9b4cc3a41b4621735a0cf6",
            "4bbda383308547fabd02d4a4a767eb38",
            "297340d8a19a443eac8c89ad4d3593f4",
            "1b29176b93f84395ad6b386037e7fd11",
            "d616bfe4a4794e468df9fd369ba57b4f",
            "cc47c72ca3634e9abda3f0695c6f877b",
            "0badd4b7904a45c1b8e380084e7c41d9",
            "07843d5f5dce4e7e8c7cb6f361188267",
            "64497f2c755843348a5b7292b800c7b6",
            "4b86d282383b41718890d1c6eba2e557",
            "c0dcd182ccea46ca90785bfd56f204bc",
            "b72183dc641843e38810f7287c71bc9b",
            "264882b62d654c8f895c07c65bf843e8",
            "43acd0102e3d43c4960a8852a38eee67"
          ]
        }
      },
      "source": [
        "for epoch in tnrange(1):\n",
        "  \n",
        "    total_loss = 0\n",
        "    total_correct = 0\n",
        "    total_loss2 = 0\n",
        "    total_correct2 = 0\n",
        "    \n",
        "    \n",
        "    with torch.no_grad():\n",
        "        network.eval()\n",
        "        for batch2 in (val_loader): # Get Batch\n",
        "\n",
        "            images2, labels2 = batch2\n",
        "            images2=images2.to(device)\n",
        "            labels2=labels2.to(device)\n",
        "\n",
        "            preds2 = network(images2) # Pass Batch\n",
        "        \n",
        "            loss2 = F.cross_entropy(preds2, labels2)\n",
        "            \n",
        "            total_loss2 += loss2.item()\n",
        "            total_correct2 += get_num_correct(preds2, labels2)\n",
        "\n",
        "    for batch in tqdm(train_loader_2): # Get Batch\n",
        "\n",
        "        optimizer.zero_grad()\n",
        "        images, labels = batch\n",
        "        images=images.to(device)\n",
        "        labels=labels.to(device)\n",
        "\n",
        "        preds = network(images)\n",
        "        \n",
        "        loss = F.cross_entropy(preds, labels)\n",
        "        loss.backward() # Calculate Gradients\n",
        "        optimizer.step()  \n",
        "        total_loss += loss.item()\n",
        "        total_correct += get_num_correct(preds, labels)\n",
        "            \n",
        "\n",
        "    loss_list.append(total_loss/(len(train_set)))\n",
        "    acc_list.append(total_correct/(len(train_set)))\n",
        "    val_loss_list.append(total_loss2/(len(val_set)))\n",
        "    val_acc_list.append(total_correct2/(len(val_set)))"
      ],
      "execution_count": 143,
      "outputs": [
        {
          "output_type": "display_data",
          "data": {
            "application/vnd.jupyter.widget-view+json": {
              "model_id": "edef493ee0ea4b80a8c729c3cea33419",
              "version_minor": 0,
              "version_major": 2
            },
            "text/plain": [
              "HBox(children=(FloatProgress(value=0.0, max=1.0), HTML(value='')))"
            ]
          },
          "metadata": {
            "tags": []
          }
        },
        {
          "output_type": "display_data",
          "data": {
            "application/vnd.jupyter.widget-view+json": {
              "model_id": "0badd4b7904a45c1b8e380084e7c41d9",
              "version_minor": 0,
              "version_major": 2
            },
            "text/plain": [
              "HBox(children=(FloatProgress(value=0.0, max=747.0), HTML(value='')))"
            ]
          },
          "metadata": {
            "tags": []
          }
        },
        {
          "output_type": "stream",
          "text": [
            "\n",
            "\n"
          ],
          "name": "stdout"
        }
      ]
    },
    {
      "cell_type": "markdown",
      "metadata": {
        "id": "AmNL9l2Gby7J",
        "colab_type": "text"
      },
      "source": [
        "## The Metrics :"
      ]
    },
    {
      "cell_type": "code",
      "metadata": {
        "id": "HFRpgfww0qHx",
        "colab_type": "code",
        "outputId": "4b320016-266c-48c6-d9d0-ae01df9278ac",
        "colab": {
          "base_uri": "https://localhost:8080/",
          "height": 433
        }
      },
      "source": [
        "plot_metric('loss', 0)\n",
        "plot_metric('accuracy', 0)"
      ],
      "execution_count": 144,
      "outputs": [
        {
          "output_type": "display_data",
          "data": {
            "image/png": "[encoded data removed]",
            "text/plain": [
              "<Figure size 792x216 with 1 Axes>"
            ]
          },
          "metadata": {
            "tags": [],
            "needs_background": "light"
          }
        },
        {
          "output_type": "display_data",
          "data": {
            "image/png": "[encoded data removed]",
            "text/plain": [
              "<Figure size 792x216 with 1 Axes>"
            ]
          },
          "metadata": {
            "tags": [],
            "needs_background": "light"
          }
        }
      ]
    },
    {
      "cell_type": "code",
      "metadata": {
        "id": "8uJYGjDFG9Zy",
        "colab_type": "code",
        "colab": {
          "base_uri": "https://localhost:8080/",
          "height": 34
        },
        "outputId": "1fd4d594-2008-44f0-bf39-6f604f391eae"
      },
      "source": [
        "print(\"Accuracy:\", max(val_acc_list)*100, \"%\")"
      ],
      "execution_count": 141,
      "outputs": [
        {
          "output_type": "stream",
          "text": [
            "Accuracy: 84.8 %\n"
          ],
          "name": "stdout"
        }
      ]
    },
    {
      "cell_type": "code",
      "metadata": {
        "id": "CSCuqL5e33fP",
        "colab_type": "code",
        "colab": {}
      },
      "source": [
        "torch.save(network.state_dict(), 'model_custom.pt') "
      ],
      "execution_count": 0,
      "outputs": []
    },
    {
      "cell_type": "markdown",
      "metadata": {
        "id": "RDxR2EyYFbUm",
        "colab_type": "text"
      },
      "source": [
        "## To do:\n",
        "* ~~train the nn~~\n",
        "* use pytorch-lr-finder"
      ]
    }
  ]
}